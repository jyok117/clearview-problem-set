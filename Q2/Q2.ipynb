{
 "cells": [
  {
   "cell_type": "markdown",
   "id": "4e46455b",
   "metadata": {},
   "source": [
    "# Classification of Disease Severity Using Simple Rules"
   ]
  },
  {
   "cell_type": "code",
   "execution_count": 13,
   "id": "2392be19",
   "metadata": {},
   "outputs": [
    {
     "name": "stdout",
     "output_type": "stream",
     "text": [
      "Requirement already satisfied: pandas in /Users/p0tt3r/.pyenv/versions/3.9.17/lib/python3.9/site-packages (2.2.3)\n",
      "Requirement already satisfied: numpy>=1.22.4 in /Users/p0tt3r/.pyenv/versions/3.9.17/lib/python3.9/site-packages (from pandas) (2.0.2)\n",
      "Requirement already satisfied: python-dateutil>=2.8.2 in /Users/p0tt3r/.pyenv/versions/3.9.17/lib/python3.9/site-packages (from pandas) (2.8.2)\n",
      "Requirement already satisfied: tzdata>=2022.7 in /Users/p0tt3r/.pyenv/versions/3.9.17/lib/python3.9/site-packages (from pandas) (2024.2)\n",
      "Requirement already satisfied: pytz>=2020.1 in /Users/p0tt3r/.pyenv/versions/3.9.17/lib/python3.9/site-packages (from pandas) (2024.2)\n",
      "Requirement already satisfied: six>=1.5 in /Users/p0tt3r/.pyenv/versions/3.9.17/lib/python3.9/site-packages (from python-dateutil>=2.8.2->pandas) (1.16.0)\n",
      "\n",
      "\u001b[1m[\u001b[0m\u001b[34;49mnotice\u001b[0m\u001b[1;39;49m]\u001b[0m\u001b[39;49m A new release of pip is available: \u001b[0m\u001b[31;49m23.0.1\u001b[0m\u001b[39;49m -> \u001b[0m\u001b[32;49m24.2\u001b[0m\n",
      "\u001b[1m[\u001b[0m\u001b[34;49mnotice\u001b[0m\u001b[1;39;49m]\u001b[0m\u001b[39;49m To update, run: \u001b[0m\u001b[32;49mpip install --upgrade pip\u001b[0m\n",
      "Requirement already satisfied: scikit-learn in /Users/p0tt3r/.pyenv/versions/3.9.17/lib/python3.9/site-packages (1.5.2)\n",
      "Requirement already satisfied: numpy>=1.19.5 in /Users/p0tt3r/.pyenv/versions/3.9.17/lib/python3.9/site-packages (from scikit-learn) (2.0.2)\n",
      "Requirement already satisfied: joblib>=1.2.0 in /Users/p0tt3r/.pyenv/versions/3.9.17/lib/python3.9/site-packages (from scikit-learn) (1.4.2)\n",
      "Requirement already satisfied: threadpoolctl>=3.1.0 in /Users/p0tt3r/.pyenv/versions/3.9.17/lib/python3.9/site-packages (from scikit-learn) (3.5.0)\n",
      "Requirement already satisfied: scipy>=1.6.0 in /Users/p0tt3r/.pyenv/versions/3.9.17/lib/python3.9/site-packages (from scikit-learn) (1.13.1)\n",
      "\n",
      "\u001b[1m[\u001b[0m\u001b[34;49mnotice\u001b[0m\u001b[1;39;49m]\u001b[0m\u001b[39;49m A new release of pip is available: \u001b[0m\u001b[31;49m23.0.1\u001b[0m\u001b[39;49m -> \u001b[0m\u001b[32;49m24.2\u001b[0m\n",
      "\u001b[1m[\u001b[0m\u001b[34;49mnotice\u001b[0m\u001b[1;39;49m]\u001b[0m\u001b[39;49m To update, run: \u001b[0m\u001b[32;49mpip install --upgrade pip\u001b[0m\n"
     ]
    }
   ],
   "source": [
    "!pip install pandas\n",
    "!pip install scikit-learn"
   ]
  },
  {
   "cell_type": "code",
   "execution_count": 14,
   "id": "f7aaf4d6-3dc4-4524-857f-8fad486060a6",
   "metadata": {},
   "outputs": [
    {
     "data": {
      "text/html": [
       "<div>\n",
       "<style scoped>\n",
       "    .dataframe tbody tr th:only-of-type {\n",
       "        vertical-align: middle;\n",
       "    }\n",
       "\n",
       "    .dataframe tbody tr th {\n",
       "        vertical-align: top;\n",
       "    }\n",
       "\n",
       "    .dataframe thead th {\n",
       "        text-align: right;\n",
       "    }\n",
       "</style>\n",
       "<table border=\"1\" class=\"dataframe\">\n",
       "  <thead>\n",
       "    <tr style=\"text-align: right;\">\n",
       "      <th></th>\n",
       "      <th>Patient</th>\n",
       "      <th>Final Category</th>\n",
       "      <th>Fatigue</th>\n",
       "      <th>Weakness</th>\n",
       "      <th>Depression</th>\n",
       "      <th>Anxiety</th>\n",
       "      <th>Dry Skin</th>\n",
       "      <th>Spasms</th>\n",
       "      <th>Tingling</th>\n",
       "      <th>Headaches</th>\n",
       "      <th>Cramps</th>\n",
       "      <th>Number of Symptoms</th>\n",
       "    </tr>\n",
       "  </thead>\n",
       "  <tbody>\n",
       "    <tr>\n",
       "      <th>0</th>\n",
       "      <td>1</td>\n",
       "      <td>Mild</td>\n",
       "      <td>0</td>\n",
       "      <td>0</td>\n",
       "      <td>1</td>\n",
       "      <td>0</td>\n",
       "      <td>0</td>\n",
       "      <td>0</td>\n",
       "      <td>0</td>\n",
       "      <td>0</td>\n",
       "      <td>0</td>\n",
       "      <td>1</td>\n",
       "    </tr>\n",
       "    <tr>\n",
       "      <th>1</th>\n",
       "      <td>2</td>\n",
       "      <td>Mild</td>\n",
       "      <td>0</td>\n",
       "      <td>0</td>\n",
       "      <td>0</td>\n",
       "      <td>0</td>\n",
       "      <td>0</td>\n",
       "      <td>0</td>\n",
       "      <td>1</td>\n",
       "      <td>1</td>\n",
       "      <td>0</td>\n",
       "      <td>2</td>\n",
       "    </tr>\n",
       "    <tr>\n",
       "      <th>2</th>\n",
       "      <td>3</td>\n",
       "      <td>Mild</td>\n",
       "      <td>1</td>\n",
       "      <td>0</td>\n",
       "      <td>0</td>\n",
       "      <td>0</td>\n",
       "      <td>1</td>\n",
       "      <td>0</td>\n",
       "      <td>1</td>\n",
       "      <td>1</td>\n",
       "      <td>0</td>\n",
       "      <td>4</td>\n",
       "    </tr>\n",
       "    <tr>\n",
       "      <th>3</th>\n",
       "      <td>4</td>\n",
       "      <td>Mild</td>\n",
       "      <td>0</td>\n",
       "      <td>0</td>\n",
       "      <td>0</td>\n",
       "      <td>0</td>\n",
       "      <td>0</td>\n",
       "      <td>0</td>\n",
       "      <td>0</td>\n",
       "      <td>0</td>\n",
       "      <td>0</td>\n",
       "      <td>0</td>\n",
       "    </tr>\n",
       "    <tr>\n",
       "      <th>4</th>\n",
       "      <td>5</td>\n",
       "      <td>Mild</td>\n",
       "      <td>0</td>\n",
       "      <td>0</td>\n",
       "      <td>0</td>\n",
       "      <td>0</td>\n",
       "      <td>0</td>\n",
       "      <td>0</td>\n",
       "      <td>1</td>\n",
       "      <td>0</td>\n",
       "      <td>0</td>\n",
       "      <td>1</td>\n",
       "    </tr>\n",
       "  </tbody>\n",
       "</table>\n",
       "</div>"
      ],
      "text/plain": [
       "   Patient Final Category  Fatigue  Weakness  Depression   Anxiety  Dry Skin  \\\n",
       "0        1           Mild        0         0            1        0         0   \n",
       "1        2           Mild        0         0            0        0         0   \n",
       "2        3           Mild        1         0            0        0         1   \n",
       "3        4           Mild        0         0            0        0         0   \n",
       "4        5           Mild        0         0            0        0         0   \n",
       "\n",
       "   Spasms  Tingling  Headaches  Cramps  Number of Symptoms  \n",
       "0       0         0          0       0                   1  \n",
       "1       0         1          1       0                   2  \n",
       "2       0         1          1       0                   4  \n",
       "3       0         0          0       0                   0  \n",
       "4       0         1          0       0                   1  "
      ]
     },
     "execution_count": 14,
     "metadata": {},
     "output_type": "execute_result"
    }
   ],
   "source": [
    "import pandas as pd\n",
    "\n",
    "file_path = 'Mild Moderate Severe Data_Final.csv'\n",
    "data = pd.read_csv(file_path)\n",
    "\n",
    "data.head()"
   ]
  },
  {
   "cell_type": "markdown",
   "id": "97c57994",
   "metadata": {},
   "source": [
    "The dataset includes the following relevant columns:\n",
    "- `Final Category`: The severity classification as determined by the physician (Mild, Moderate, Severe).\n",
    "- Various symptom flags (e.g., `Fatigue`, `Weakness`, `Depression`, etc.) that indicate the presence (1) or absence (0) of symptoms.\n",
    "- `Number of Symptoms`: The total number of symptoms a patient has."
   ]
  },
  {
   "cell_type": "code",
   "execution_count": 15,
   "id": "01c050e6",
   "metadata": {},
   "outputs": [
    {
     "data": {
      "text/plain": [
       "Final Category\n",
       "Mild        100\n",
       "Moderate    100\n",
       "Severe      100\n",
       "Name: count, dtype: int64"
      ]
     },
     "execution_count": 15,
     "metadata": {},
     "output_type": "execute_result"
    }
   ],
   "source": [
    "# Checking the distribution of the 'Final Category' to understand the data balance\n",
    "data['Final Category'].value_counts()"
   ]
  },
  {
   "cell_type": "markdown",
   "id": "0c61eb09",
   "metadata": {},
   "source": [
    "The dataset is perfectly balanced, with 100 cases each for `Mild`, `Moderate`, and `Severe` categories."
   ]
  },
  {
   "cell_type": "markdown",
   "id": "16c6345d",
   "metadata": {},
   "source": [
    "Exploring the relationships between symptoms and severity to derive the rules that might be useful to classify the severity of the condition."
   ]
  },
  {
   "cell_type": "code",
   "execution_count": 16,
   "id": "b85f35da",
   "metadata": {},
   "outputs": [
    {
     "data": {
      "text/html": [
       "<div>\n",
       "<style scoped>\n",
       "    .dataframe tbody tr th:only-of-type {\n",
       "        vertical-align: middle;\n",
       "    }\n",
       "\n",
       "    .dataframe tbody tr th {\n",
       "        vertical-align: top;\n",
       "    }\n",
       "\n",
       "    .dataframe thead th {\n",
       "        text-align: right;\n",
       "    }\n",
       "</style>\n",
       "<table border=\"1\" class=\"dataframe\">\n",
       "  <thead>\n",
       "    <tr style=\"text-align: right;\">\n",
       "      <th>Final Category</th>\n",
       "      <th>Mild</th>\n",
       "      <th>Moderate</th>\n",
       "      <th>Severe</th>\n",
       "    </tr>\n",
       "  </thead>\n",
       "  <tbody>\n",
       "    <tr>\n",
       "      <th>Fatigue</th>\n",
       "      <td>0.29</td>\n",
       "      <td>0.54</td>\n",
       "      <td>0.57</td>\n",
       "    </tr>\n",
       "    <tr>\n",
       "      <th>Weakness</th>\n",
       "      <td>0.19</td>\n",
       "      <td>0.51</td>\n",
       "      <td>0.49</td>\n",
       "    </tr>\n",
       "    <tr>\n",
       "      <th>Depression</th>\n",
       "      <td>0.06</td>\n",
       "      <td>0.61</td>\n",
       "      <td>0.40</td>\n",
       "    </tr>\n",
       "    <tr>\n",
       "      <th>Anxiety</th>\n",
       "      <td>0.15</td>\n",
       "      <td>0.45</td>\n",
       "      <td>0.49</td>\n",
       "    </tr>\n",
       "    <tr>\n",
       "      <th>Dry Skin</th>\n",
       "      <td>0.21</td>\n",
       "      <td>0.40</td>\n",
       "      <td>0.49</td>\n",
       "    </tr>\n",
       "    <tr>\n",
       "      <th>Spasms</th>\n",
       "      <td>0.01</td>\n",
       "      <td>0.03</td>\n",
       "      <td>0.56</td>\n",
       "    </tr>\n",
       "    <tr>\n",
       "      <th>Tingling</th>\n",
       "      <td>0.25</td>\n",
       "      <td>0.22</td>\n",
       "      <td>0.50</td>\n",
       "    </tr>\n",
       "    <tr>\n",
       "      <th>Headaches</th>\n",
       "      <td>0.15</td>\n",
       "      <td>0.38</td>\n",
       "      <td>0.47</td>\n",
       "    </tr>\n",
       "    <tr>\n",
       "      <th>Cramps</th>\n",
       "      <td>0.01</td>\n",
       "      <td>0.02</td>\n",
       "      <td>0.61</td>\n",
       "    </tr>\n",
       "  </tbody>\n",
       "</table>\n",
       "</div>"
      ],
      "text/plain": [
       "Final Category  Mild  Moderate  Severe\n",
       "Fatigue         0.29      0.54    0.57\n",
       "Weakness        0.19      0.51    0.49\n",
       "Depression      0.06      0.61    0.40\n",
       "Anxiety         0.15      0.45    0.49\n",
       "Dry Skin        0.21      0.40    0.49\n",
       "Spasms          0.01      0.03    0.56\n",
       "Tingling        0.25      0.22    0.50\n",
       "Headaches       0.15      0.38    0.47\n",
       "Cramps          0.01      0.02    0.61"
      ]
     },
     "execution_count": 16,
     "metadata": {},
     "output_type": "execute_result"
    }
   ],
   "source": [
    "# Grouping by 'Final Category' to see the mean presence of symptoms across severity levels\n",
    "symptom_columns = data.columns[2:-1]\n",
    "severity_means = data.groupby('Final Category')[symptom_columns].mean()\n",
    "\n",
    "severity_means.T  # Transpose for easier viewing"
   ]
  },
  {
   "cell_type": "markdown",
   "id": "66785dc4",
   "metadata": {},
   "source": [
    "From the analysis, here are some clear patterns between symptom prevalence and severity levels:\n",
    "- `Mild` cases typically show low frequencies across most symptoms.\n",
    "- `Moderate` cases see a marked increase in symptoms like fatigue, weakness, depression, anxiety, and headaches.\n",
    "- `Severe` cases have the highest presence of more intense symptoms like spasms, cramps, and tingling."
   ]
  },
  {
   "cell_type": "markdown",
   "id": "d104c42f",
   "metadata": {},
   "source": [
    "Here are some simple rules based on these patterns and then use them to predict the severity for each patient."
   ]
  },
  {
   "cell_type": "code",
   "execution_count": 17,
   "id": "e1ad21a5",
   "metadata": {},
   "outputs": [],
   "source": [
    "# Rule for Mild: Few symptoms, particularly not high on severe symptoms\n",
    "def classify_mild(row):\n",
    "    return row['Number of Symptoms'] <= 2 and row['Spasms'] == 0 and row['Cramps'] == 0"
   ]
  },
  {
   "cell_type": "code",
   "execution_count": 18,
   "id": "1a57f3ff",
   "metadata": {},
   "outputs": [],
   "source": [
    "# Rule for Severe: Presence of more severe symptoms like spasms, cramps, or a high number of symptoms\n",
    "def classify_severe(row):\n",
    "    return row['Spasms'] == 1 or row['Cramps'] == 1 or row['Number of Symptoms'] > 5"
   ]
  },
  {
   "cell_type": "code",
   "execution_count": 19,
   "id": "1efec0be",
   "metadata": {},
   "outputs": [],
   "source": [
    "# Rule for Moderate: Falls between mild and severe, moderate number of symptoms and common symptoms like fatigue, depression, etc.\n",
    "def classify_moderate(row):\n",
    "    return not classify_mild(row) and not classify_severe(row)"
   ]
  },
  {
   "cell_type": "markdown",
   "id": "9525d94e",
   "metadata": {},
   "source": [
    "Calculating the confusion matrix to evaluate the effectiveness of these rules."
   ]
  },
  {
   "cell_type": "code",
   "execution_count": 20,
   "id": "14dc5cbb",
   "metadata": {},
   "outputs": [
    {
     "data": {
      "text/plain": [
       "array([[86, 12,  2],\n",
       "       [ 9, 86,  5],\n",
       "       [ 0, 16, 84]])"
      ]
     },
     "execution_count": 20,
     "metadata": {},
     "output_type": "execute_result"
    }
   ],
   "source": [
    "# Applying the rules\n",
    "data['Predicted Category'] = data.apply(lambda row: 'Mild' if classify_mild(row) else ('Severe' if classify_severe(row) else 'Moderate'), axis=1)\n",
    "\n",
    "from sklearn.metrics import confusion_matrix\n",
    "\n",
    "conf_matrix = confusion_matrix(data['Final Category'], data['Predicted Category'], labels=['Mild', 'Moderate', 'Severe'])\n",
    "\n",
    "conf_matrix\n"
   ]
  },
  {
   "cell_type": "markdown",
   "id": "179ce7f7",
   "metadata": {},
   "source": [
    "## Summary"
   ]
  },
  {
   "cell_type": "markdown",
   "id": "4ae252a5",
   "metadata": {},
   "source": [
    "### Extracted Rules:\n",
    "1. `Mild`: Patients with 2 or fewer symptoms, no spasms, and no cramps.\n",
    "2. `Moderate`: Patients who do not fit into the mild or severe categories, with symptoms like fatigue, depression, or anxiety but without severe symptoms.\n",
    "3. `Severe`: Patients with spasms, cramps, or more than 5 symptoms."
   ]
  },
  {
   "cell_type": "markdown",
   "id": "7f8c29a9",
   "metadata": {},
   "source": [
    "### Confusion Matrix:\n",
    "\n",
    "|               | Predicted Mild | Predicted Moderate | Predicted Severe |\n",
    "|---------------|----------------|--------------------|------------------|\n",
    "| Actual Mild   | 86             | 12                 | 2                |\n",
    "| Actual Moderate| 9             | 86                 | 5                |\n",
    "| Actual Severe | 0              | 16                 | 84               |"
   ]
  },
  {
   "cell_type": "markdown",
   "id": "5ff6701b",
   "metadata": {},
   "source": [
    "### Key Findings:\n",
    "- `Mild` Classification: The rule for mild severity successfully captured 86 out of 100 actual mild cases, misclassifying 12 patients as moderate and 2 as severe.\n",
    "- `Moderate` Classification: 86 out of 100 moderate patients were correctly classified. There was some confusion with mild and severe categories, with 9 and 5 patients misclassified, respectively.\n",
    "- `Severe` Classification: 84 out of 100 severe cases were correctly identified, though 16 patients were misclassified as moderate, indicating some overlap in symptom presentation between moderate and severe categories."
   ]
  },
  {
   "cell_type": "markdown",
   "id": "c0fe281a",
   "metadata": {},
   "source": [
    "### Approach:\n",
    "\n",
    "I examined the symptom prevalence across severity categories to extract simple classification rules based on the number of symptoms and the presence of specific severe symptoms (e.g., spasms, cramps). These rules were applied to classify patients, and the confusion matrix was used to evaluate their accuracy."
   ]
  },
  {
   "cell_type": "markdown",
   "id": "0b2cdb53",
   "metadata": {},
   "source": []
  }
 ],
 "metadata": {
  "kernelspec": {
   "display_name": "Python 3",
   "language": "python",
   "name": "python3"
  },
  "language_info": {
   "codemirror_mode": {
    "name": "ipython",
    "version": 3
   },
   "file_extension": ".py",
   "mimetype": "text/x-python",
   "name": "python",
   "nbconvert_exporter": "python",
   "pygments_lexer": "ipython3",
   "version": "3.9.17"
  }
 },
 "nbformat": 4,
 "nbformat_minor": 5
}
